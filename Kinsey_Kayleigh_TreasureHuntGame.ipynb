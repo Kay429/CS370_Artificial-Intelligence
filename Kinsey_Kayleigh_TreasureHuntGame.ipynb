{
 "cells": [
  {
   "cell_type": "markdown",
   "metadata": {},
   "source": [
    "# Treasure Hunt Game Notebook\n",
    "\n",
    "## Read and Review Your Starter Code\n",
    "The theme of this project is a popular treasure hunt game in which the player needs to find the treasure before the pirate does. While you will not be developing the entire game, you will write the part of the game that represents the intelligent agent, which is a pirate in this case. The pirate will try to find the optimal path to the treasure using deep Q-learning. \n",
    "\n",
    "You have been provided with two Python classes and this notebook to help you with this assignment. The first class, TreasureMaze.py, represents the environment, which includes a maze object defined as a matrix. The second class, GameExperience.py, stores the episodes – that is, all the states that come in between the initial state and the terminal state. This is later used by the agent for learning by experience, called \"exploration\". This notebook shows how to play a game. Your task is to complete the deep Q-learning implementation for which a skeleton implementation has been provided. The code blocks you will need to complete has #TODO as a header.\n",
    "\n",
    "First, read and review the next few code and instruction blocks to understand the code that you have been given."
   ]
  },
  {
   "cell_type": "code",
   "execution_count": 1,
   "metadata": {},
   "outputs": [
    {
     "name": "stderr",
     "output_type": "stream",
     "text": [
      "Using TensorFlow backend.\n"
     ]
    }
   ],
   "source": [
    "from __future__ import print_function\n",
    "import os, sys, time, datetime, json, random\n",
    "import numpy as np\n",
    "from keras.models import Sequential\n",
    "from keras.layers.core import Dense, Activation\n",
    "from keras.optimizers import SGD , Adam, RMSprop\n",
    "from keras.layers.advanced_activations import PReLU\n",
    "import matplotlib.pyplot as plt\n",
    "from TreasureMaze import TreasureMaze\n",
    "from GameExperience import GameExperience\n",
    "%matplotlib inline"
   ]
  },
  {
   "cell_type": "markdown",
   "metadata": {},
   "source": [
    "The following code block contains an 8x8 matrix that will be used as a maze object:"
   ]
  },
  {
   "cell_type": "code",
   "execution_count": 2,
   "metadata": {},
   "outputs": [],
   "source": [
    "maze = np.array([\n",
    "    [ 1.,  0.,  1.,  1.,  1.,  1.,  1.,  1.],\n",
    "    [ 1.,  0.,  1.,  1.,  1.,  0.,  1.,  1.],\n",
    "    [ 1.,  1.,  1.,  1.,  0.,  1.,  0.,  1.],\n",
    "    [ 1.,  1.,  1.,  0.,  1.,  1.,  1.,  1.],\n",
    "    [ 1.,  1.,  0.,  1.,  1.,  1.,  1.,  1.],\n",
    "    [ 1.,  1.,  1.,  0.,  1.,  0.,  0.,  0.],\n",
    "    [ 1.,  1.,  1.,  0.,  1.,  1.,  1.,  1.],\n",
    "    [ 1.,  1.,  1.,  1.,  0.,  1.,  1.,  1.]\n",
    "])"
   ]
  },
  {
   "cell_type": "markdown",
   "metadata": {},
   "source": [
    "This helper function allows a visual representation of the maze object:"
   ]
  },
  {
   "cell_type": "code",
   "execution_count": 3,
   "metadata": {},
   "outputs": [],
   "source": [
    "def show(qmaze):\n",
    "    plt.grid('on')\n",
    "    nrows, ncols = qmaze.maze.shape\n",
    "    ax = plt.gca()\n",
    "    ax.set_xticks(np.arange(0.5, nrows, 1))\n",
    "    ax.set_yticks(np.arange(0.5, ncols, 1))\n",
    "    ax.set_xticklabels([])\n",
    "    ax.set_yticklabels([])\n",
    "    canvas = np.copy(qmaze.maze)\n",
    "    for row,col in qmaze.visited:\n",
    "        canvas[row,col] = 0.6\n",
    "    pirate_row, pirate_col, _ = qmaze.state\n",
    "    canvas[pirate_row, pirate_col] = 0.3   # pirate cell\n",
    "    canvas[nrows-1, ncols-1] = 0.9 # treasure cell\n",
    "    img = plt.imshow(canvas, interpolation='none', cmap='gray')\n",
    "    return img"
   ]
  },
  {
   "cell_type": "markdown",
   "metadata": {},
   "source": [
    "The pirate agent can move in four directions: left, right, up, and down. \n",
    "\n",
    "While the agent primarily learns by experience through exploitation, often, the agent can choose to explore the environment to find previously undiscovered paths. This is called \"exploration\" and is defined by epsilon. This value is typically a lower value such as 0.1, which means for every ten attempts, the agent will attempt to learn by experience nine times and will randomly explore a new path one time. You are encouraged to try various values for the exploration factor and see how the algorithm performs."
   ]
  },
  {
   "cell_type": "code",
   "execution_count": 4,
   "metadata": {},
   "outputs": [],
   "source": [
    "LEFT = 0\n",
    "UP = 1\n",
    "RIGHT = 2\n",
    "DOWN = 3\n",
    "\n",
    "\n",
    "# Exploration factor\n",
    "epsilon = 0.1\n",
    "\n",
    "# Actions dictionary\n",
    "actions_dict = {\n",
    "    LEFT: 'left',\n",
    "    UP: 'up',\n",
    "    RIGHT: 'right',\n",
    "    DOWN: 'down',\n",
    "}\n",
    "\n",
    "num_actions = len(actions_dict)\n"
   ]
  },
  {
   "cell_type": "markdown",
   "metadata": {},
   "source": [
    "The sample code block and output below show creating a maze object and performing one action (DOWN), which returns the reward. The resulting updated environment is visualized."
   ]
  },
  {
   "cell_type": "code",
   "execution_count": 5,
   "metadata": {},
   "outputs": [
    {
     "name": "stdout",
     "output_type": "stream",
     "text": [
      "reward= -0.04\n"
     ]
    },
    {
     "data": {
      "text/plain": [
       "<matplotlib.image.AxesImage at 0x21aeb1b8788>"
      ]
     },
     "execution_count": 5,
     "metadata": {},
     "output_type": "execute_result"
    },
    {
     "data": {
      "image/png": "[encoded data removed]",
      "text/plain": [
       "<Figure size 432x288 with 1 Axes>"
      ]
     },
     "metadata": {
      "needs_background": "light"
     },
     "output_type": "display_data"
    }
   ],
   "source": [
    "qmaze = TreasureMaze(maze)\n",
    "canvas, reward, game_over = qmaze.act(DOWN)\n",
    "print(\"reward=\", reward)\n",
    "show(qmaze)"
   ]
  },
  {
   "cell_type": "markdown",
   "metadata": {},
   "source": [
    "This function simulates a full game based on the provided trained model. The other parameters include the TreasureMaze object and the starting position of the pirate."
   ]
  },
  {
   "cell_type": "code",
   "execution_count": 6,
   "metadata": {},
   "outputs": [],
   "source": [
    "def play_game(model, qmaze, pirate_cell):\n",
    "    qmaze.reset(pirate_cell)\n",
    "    envstate = qmaze.observe()\n",
    "    while True:\n",
    "        prev_envstate = envstate\n",
    "        # get next action\n",
    "        q = model.predict(prev_envstate)\n",
    "        action = np.argmax(q[0])\n",
    "\n",
    "        # apply action, get rewards and new state\n",
    "        envstate, reward, game_status = qmaze.act(action)\n",
    "        if game_status == 'win':\n",
    "            return True\n",
    "        elif game_status == 'lose':\n",
    "            return False"
   ]
  },
  {
   "cell_type": "markdown",
   "metadata": {},
   "source": [
    "This function helps you to determine whether the pirate can win any game at all. If your maze is not well designed, the pirate may not win any game at all. In this case, your training would not yield any result. The provided maze in this notebook ensures that there is a path to win and you can run this method to check."
   ]
  },
  {
   "cell_type": "code",
   "execution_count": 7,
   "metadata": {},
   "outputs": [],
   "source": [
    "def completion_check(model, qmaze):\n",
    "    for cell in qmaze.free_cells:\n",
    "        if not qmaze.valid_actions(cell):\n",
    "            return False\n",
    "        if not play_game(model, qmaze, cell):\n",
    "            return False\n",
    "    return True"
   ]
  },
  {
   "cell_type": "markdown",
   "metadata": {},
   "source": [
    "The code you have been given in this block will build the neural network model. Review the code and note the number of layers, as well as the activation, optimizer, and loss functions that are used to train the model."
   ]
  },
  {
   "cell_type": "code",
   "execution_count": 8,
   "metadata": {},
   "outputs": [],
   "source": [
    "def build_model(maze):\n",
    "    model = Sequential()\n",
    "    model.add(Dense(maze.size, input_shape=(maze.size,)))\n",
    "    model.add(PReLU())\n",
    "    model.add(Dense(maze.size))\n",
    "    model.add(PReLU())\n",
    "    model.add(Dense(num_actions))\n",
    "    model.compile(optimizer='adam', loss='mse')\n",
    "    return model"
   ]
  },
  {
   "cell_type": "markdown",
   "metadata": {},
   "source": [
    "# #TODO: Complete the Q-Training Algorithm Code Block\n",
    "\n",
    "This is your deep Q-learning implementation. The goal of your deep Q-learning implementation is to find the best possible navigation sequence that results in reaching the treasure cell while maximizing the reward. In your implementation, you need to determine the optimal number of epochs to achieve a 100% win rate.\n",
    "\n",
    "You will need to complete the section starting with #pseudocode. The pseudocode has been included for you."
   ]
  },
  {
   "cell_type": "code",
   "execution_count": 9,
   "metadata": {},
   "outputs": [],
   "source": [
    "# Trains the model to complete the game with a 100% win rate\n",
    "def qtrain(model, maze, **opt):\n",
    "    \n",
    "    # exploration factor\n",
    "    global epsilon \n",
    "\n",
    "    # number of epochs\n",
    "    n_epoch = opt.get('n_epoch', 15000)\n",
    "\n",
    "    # maximum memory to store episodes\n",
    "    max_memory = opt.get('max_memory', 1000)\n",
    "\n",
    "    # maximum data size for training\n",
    "    data_size = opt.get('data_size', 50)\n",
    "\n",
    "    # start time\n",
    "    start_time = datetime.datetime.now()\n",
    "\n",
    "    # Construct environment/game from numpy array: maze (see above)\n",
    "    qmaze = TreasureMaze(maze)\n",
    "\n",
    "    # Initialize experience replay object\n",
    "    experience = GameExperience(model, max_memory=max_memory)\n",
    "    \n",
    "    win_history = []   # history of win/lose game\n",
    "    hsize = qmaze.maze.size//2   # history window size\n",
    "    win_rate = 0.0\n",
    "\n",
    "    # ******************** Kayleigh Kinsey's Code ********************\n",
    "    \n",
    "    # Run through epochs until win rate is 100% or loop has run n_epoch times\n",
    "    for epoch in range(0, n_epoch):\n",
    "        \n",
    "        # set epoch start time\n",
    "        start_time = datetime.datetime.now()\n",
    "        # initialize agent at a random free cell\n",
    "        agent_cell = random.choice(qmaze.free_cells)\n",
    "        qmaze.reset(agent_cell)\n",
    "        # observe state\n",
    "        envstate = qmaze.observe()\n",
    "        # initialize n_episodes to 0\n",
    "        n_episodes = 0\n",
    "        \n",
    "        # Until the game is complete, the agent will continue to take actions\n",
    "        while qmaze.game_status() == \"not_over\":\n",
    "            \n",
    "            # Set previous envstate\n",
    "            prev_envstate = envstate\n",
    "            \n",
    "            # randomly decide whether action is exploration or exploitation\n",
    "            # if exploration, action is a random movement\n",
    "            # if exploitation, action is chosen by the model\n",
    "            if np.random.rand() < epsilon: # if a random number is less than the exploration factor\n",
    "                action = random.randrange(4) # random action\n",
    "            else:\n",
    "                q_values = model.predict(envstate)  # make prediction based on state\n",
    "                action = np.argmax(q_values[0]) # use prediction to decide on action\n",
    "                \n",
    "            # apply action, get rewards and new state\n",
    "            envstate, reward, game_status = qmaze.act(action)\n",
    "            episode = [prev_envstate, action, reward, envstate, game_status]\n",
    "            # store new episode in memory\n",
    "            experience.remember(episode) \n",
    "            \n",
    "            # fit model\n",
    "            data = experience.get_data(data_size)\n",
    "            model.fit(data[0], data[1], verbose=0)\n",
    "            # calculate loss\n",
    "            loss = model.evaluate(data[0], data[1], verbose=0)\n",
    "            # increment n_episodes\n",
    "            n_episodes += 1\n",
    "        \n",
    "        # append result of epoch to win_history\n",
    "        if qmaze.game_status() == \"win\":\n",
    "            win_history.append(1)\n",
    "        else:\n",
    "            win_history.append(0)\n",
    "        \n",
    "        # calculate win_rate\n",
    "        if sum(win_history) != 0:\n",
    "            win_rate = sum(win_history) / len(win_history)\n",
    "            \n",
    "        # ************************************************************\n",
    "        \n",
    "        #Print the epoch, loss, episodes, win count, and win rate for each epoch\n",
    "        dt = datetime.datetime.now() - start_time\n",
    "        t = format_time(dt.total_seconds())\n",
    "        template = \"Epoch: {:03d}/{:d} | Loss: {:.4f} | Episodes: {:d} | Win count: {:d} | Win rate: {:.3f} | time: {}\"\n",
    "        print(template.format(epoch, n_epoch-1, loss, n_episodes, sum(win_history), win_rate, t))\n",
    "        # We simply check if training has exhausted all free cells and if in all\n",
    "        # cases the agent won.\n",
    "        if win_rate > 0.9 : \n",
    "            epsilon = 0.05\n",
    "        if sum(win_history[-hsize:]) == hsize and completion_check(model, qmaze):\n",
    "            print(\"Reached 100%% win rate at epoch: %d\" % (epoch,))\n",
    "            break\n",
    "    \n",
    "    \n",
    "    # Determine the total time for training\n",
    "    dt = datetime.datetime.now() - start_time\n",
    "    seconds = dt.total_seconds()\n",
    "    t = format_time(seconds)\n",
    "\n",
    "    print(\"n_epoch: %d, max_mem: %d, data: %d, time: %s\" % (epoch, max_memory, data_size, t))\n",
    "    return seconds\n",
    "\n",
    "# This is a small utility for printing readable time strings:\n",
    "def format_time(seconds):\n",
    "    if seconds < 400:\n",
    "        s = float(seconds)\n",
    "        return \"%.1f seconds\" % (s,)\n",
    "    elif seconds < 4000:\n",
    "        m = seconds / 60.0\n",
    "        return \"%.2f minutes\" % (m,)\n",
    "    else:\n",
    "        h = seconds / 3600.0\n",
    "        return \"%.2f hours\" % (h,)"
   ]
  },
  {
   "cell_type": "markdown",
   "metadata": {},
   "source": [
    "## Test Your Model\n",
    "\n",
    "Now we will start testing the deep Q-learning implementation. To begin, select **Cell**, then **Run All** from the menu bar. This will run your notebook. As it runs, you should see output begin to appear beneath the next few cells. The code below creates an instance of TreasureMaze."
   ]
  },
  {
   "cell_type": "code",
   "execution_count": 10,
   "metadata": {},
   "outputs": [
    {
     "data": {
      "text/plain": [
       "<matplotlib.image.AxesImage at 0x21aec463c48>"
      ]
     },
     "execution_count": 10,
     "metadata": {},
     "output_type": "execute_result"
    },
    {
     "data": {
      "image/png": "[encoded data removed]",
      "text/plain": [
       "<Figure size 432x288 with 1 Axes>"
      ]
     },
     "metadata": {
      "needs_background": "light"
     },
     "output_type": "display_data"
    }
   ],
   "source": [
    "qmaze = TreasureMaze(maze)\n",
    "show(qmaze)"
   ]
  },
  {
   "cell_type": "markdown",
   "metadata": {},
   "source": [
    "In the next code block, you will build your model and train it using deep Q-learning. Note: This step takes several minutes to fully run."
   ]
  },
  {
   "cell_type": "code",
   "execution_count": 11,
   "metadata": {},
   "outputs": [
    {
     "name": "stdout",
     "output_type": "stream",
     "text": [
      "Epoch: 000/14999 | Loss: 0.0004 | Episodes: 133 | Win count: 0 | Win rate: 0.000 | time: 12.6 seconds\n",
      "Epoch: 001/14999 | Loss: 0.0007 | Episodes: 139 | Win count: 0 | Win rate: 0.000 | time: 14.0 seconds\n",
      "Epoch: 002/14999 | Loss: 0.0017 | Episodes: 140 | Win count: 0 | Win rate: 0.000 | time: 13.5 seconds\n",
      "Epoch: 003/14999 | Loss: 0.0004 | Episodes: 131 | Win count: 0 | Win rate: 0.000 | time: 12.5 seconds\n",
      "Epoch: 004/14999 | Loss: 0.0006 | Episodes: 133 | Win count: 0 | Win rate: 0.000 | time: 13.6 seconds\n",
      "Epoch: 005/14999 | Loss: 0.0011 | Episodes: 17 | Win count: 1 | Win rate: 0.167 | time: 1.6 seconds\n",
      "Epoch: 006/14999 | Loss: 0.0129 | Episodes: 62 | Win count: 2 | Win rate: 0.286 | time: 6.0 seconds\n",
      "Epoch: 007/14999 | Loss: 0.0016 | Episodes: 10 | Win count: 3 | Win rate: 0.375 | time: 1.0 seconds\n",
      "Epoch: 008/14999 | Loss: 0.0130 | Episodes: 97 | Win count: 4 | Win rate: 0.444 | time: 9.3 seconds\n",
      "Epoch: 009/14999 | Loss: 0.0019 | Episodes: 83 | Win count: 5 | Win rate: 0.500 | time: 8.0 seconds\n",
      "Epoch: 010/14999 | Loss: 0.0012 | Episodes: 136 | Win count: 5 | Win rate: 0.455 | time: 13.2 seconds\n",
      "Epoch: 011/14999 | Loss: 0.0100 | Episodes: 54 | Win count: 6 | Win rate: 0.500 | time: 5.3 seconds\n",
      "Epoch: 012/14999 | Loss: 0.0013 | Episodes: 32 | Win count: 7 | Win rate: 0.538 | time: 3.2 seconds\n",
      "Epoch: 013/14999 | Loss: 0.0013 | Episodes: 144 | Win count: 7 | Win rate: 0.500 | time: 14.5 seconds\n",
      "Epoch: 014/14999 | Loss: 0.0012 | Episodes: 142 | Win count: 7 | Win rate: 0.467 | time: 15.6 seconds\n",
      "Epoch: 015/14999 | Loss: 0.0025 | Episodes: 25 | Win count: 8 | Win rate: 0.500 | time: 3.3 seconds\n",
      "Epoch: 016/14999 | Loss: 0.0015 | Episodes: 142 | Win count: 8 | Win rate: 0.471 | time: 17.6 seconds\n",
      "Epoch: 017/14999 | Loss: 0.0019 | Episodes: 51 | Win count: 9 | Win rate: 0.500 | time: 6.3 seconds\n",
      "Epoch: 018/14999 | Loss: 0.0015 | Episodes: 147 | Win count: 9 | Win rate: 0.474 | time: 18.0 seconds\n",
      "Epoch: 019/14999 | Loss: 0.0094 | Episodes: 27 | Win count: 10 | Win rate: 0.500 | time: 3.3 seconds\n",
      "Epoch: 020/14999 | Loss: 0.0015 | Episodes: 6 | Win count: 11 | Win rate: 0.524 | time: 0.8 seconds\n",
      "Epoch: 021/14999 | Loss: 0.0018 | Episodes: 32 | Win count: 12 | Win rate: 0.545 | time: 4.2 seconds\n",
      "Epoch: 022/14999 | Loss: 0.0010 | Episodes: 12 | Win count: 13 | Win rate: 0.565 | time: 1.5 seconds\n",
      "Epoch: 023/14999 | Loss: 0.0079 | Episodes: 134 | Win count: 13 | Win rate: 0.542 | time: 15.7 seconds\n",
      "Epoch: 024/14999 | Loss: 0.0140 | Episodes: 16 | Win count: 14 | Win rate: 0.560 | time: 2.1 seconds\n",
      "Epoch: 025/14999 | Loss: 0.0017 | Episodes: 21 | Win count: 15 | Win rate: 0.577 | time: 2.5 seconds\n",
      "Epoch: 026/14999 | Loss: 0.0049 | Episodes: 143 | Win count: 15 | Win rate: 0.556 | time: 17.4 seconds\n",
      "Epoch: 027/14999 | Loss: 0.0024 | Episodes: 143 | Win count: 15 | Win rate: 0.536 | time: 18.4 seconds\n",
      "Epoch: 028/14999 | Loss: 0.0022 | Episodes: 2 | Win count: 16 | Win rate: 0.552 | time: 0.3 seconds\n",
      "Epoch: 029/14999 | Loss: 0.0008 | Episodes: 139 | Win count: 16 | Win rate: 0.533 | time: 17.0 seconds\n",
      "Epoch: 030/14999 | Loss: 0.0012 | Episodes: 11 | Win count: 17 | Win rate: 0.548 | time: 1.4 seconds\n",
      "Epoch: 031/14999 | Loss: 0.0008 | Episodes: 23 | Win count: 18 | Win rate: 0.562 | time: 2.6 seconds\n",
      "Epoch: 032/14999 | Loss: 0.0018 | Episodes: 137 | Win count: 18 | Win rate: 0.545 | time: 16.8 seconds\n",
      "Epoch: 033/14999 | Loss: 0.0007 | Episodes: 135 | Win count: 18 | Win rate: 0.529 | time: 17.1 seconds\n",
      "Epoch: 034/14999 | Loss: 0.0005 | Episodes: 138 | Win count: 18 | Win rate: 0.514 | time: 17.3 seconds\n",
      "Epoch: 035/14999 | Loss: 0.0011 | Episodes: 9 | Win count: 19 | Win rate: 0.528 | time: 1.1 seconds\n",
      "Epoch: 036/14999 | Loss: 0.0009 | Episodes: 137 | Win count: 19 | Win rate: 0.514 | time: 16.4 seconds\n",
      "Epoch: 037/14999 | Loss: 0.0008 | Episodes: 136 | Win count: 19 | Win rate: 0.500 | time: 16.3 seconds\n",
      "Epoch: 038/14999 | Loss: 0.0007 | Episodes: 14 | Win count: 20 | Win rate: 0.513 | time: 1.6 seconds\n",
      "Epoch: 039/14999 | Loss: 0.0007 | Episodes: 138 | Win count: 20 | Win rate: 0.500 | time: 16.9 seconds\n",
      "Epoch: 040/14999 | Loss: 0.0008 | Episodes: 9 | Win count: 21 | Win rate: 0.512 | time: 1.2 seconds\n",
      "Epoch: 041/14999 | Loss: 0.0006 | Episodes: 2 | Win count: 22 | Win rate: 0.524 | time: 0.3 seconds\n",
      "Epoch: 042/14999 | Loss: 0.0002 | Episodes: 140 | Win count: 22 | Win rate: 0.512 | time: 17.0 seconds\n",
      "Epoch: 043/14999 | Loss: 0.0015 | Episodes: 137 | Win count: 22 | Win rate: 0.500 | time: 17.4 seconds\n",
      "Epoch: 044/14999 | Loss: 0.0017 | Episodes: 138 | Win count: 22 | Win rate: 0.489 | time: 17.0 seconds\n",
      "Epoch: 045/14999 | Loss: 0.0006 | Episodes: 14 | Win count: 23 | Win rate: 0.500 | time: 1.7 seconds\n",
      "Epoch: 046/14999 | Loss: 0.0010 | Episodes: 141 | Win count: 23 | Win rate: 0.489 | time: 17.8 seconds\n",
      "Epoch: 047/14999 | Loss: 0.0009 | Episodes: 3 | Win count: 24 | Win rate: 0.500 | time: 0.4 seconds\n",
      "Epoch: 048/14999 | Loss: 0.0010 | Episodes: 1 | Win count: 25 | Win rate: 0.510 | time: 0.1 seconds\n",
      "Epoch: 049/14999 | Loss: 0.0015 | Episodes: 143 | Win count: 25 | Win rate: 0.500 | time: 17.1 seconds\n",
      "Epoch: 050/14999 | Loss: 0.0004 | Episodes: 141 | Win count: 25 | Win rate: 0.490 | time: 16.8 seconds\n",
      "Epoch: 051/14999 | Loss: 0.0007 | Episodes: 3 | Win count: 26 | Win rate: 0.500 | time: 0.4 seconds\n",
      "Epoch: 052/14999 | Loss: 0.0013 | Episodes: 8 | Win count: 27 | Win rate: 0.509 | time: 0.9 seconds\n",
      "Epoch: 053/14999 | Loss: 0.0007 | Episodes: 11 | Win count: 28 | Win rate: 0.519 | time: 1.4 seconds\n",
      "Epoch: 054/14999 | Loss: 0.0011 | Episodes: 7 | Win count: 29 | Win rate: 0.527 | time: 0.8 seconds\n",
      "Epoch: 055/14999 | Loss: 0.0005 | Episodes: 16 | Win count: 30 | Win rate: 0.536 | time: 1.9 seconds\n",
      "Epoch: 056/14999 | Loss: 0.0012 | Episodes: 140 | Win count: 30 | Win rate: 0.526 | time: 16.9 seconds\n",
      "Epoch: 057/14999 | Loss: 0.0014 | Episodes: 6 | Win count: 31 | Win rate: 0.534 | time: 0.7 seconds\n",
      "Epoch: 058/14999 | Loss: 0.0013 | Episodes: 1 | Win count: 32 | Win rate: 0.542 | time: 0.2 seconds\n",
      "Epoch: 059/14999 | Loss: 0.0016 | Episodes: 5 | Win count: 33 | Win rate: 0.550 | time: 0.8 seconds\n",
      "Epoch: 060/14999 | Loss: 0.0011 | Episodes: 14 | Win count: 34 | Win rate: 0.557 | time: 1.6 seconds\n",
      "Epoch: 061/14999 | Loss: 0.0007 | Episodes: 9 | Win count: 35 | Win rate: 0.565 | time: 0.9 seconds\n",
      "Epoch: 062/14999 | Loss: 0.0010 | Episodes: 141 | Win count: 35 | Win rate: 0.556 | time: 16.6 seconds\n",
      "Epoch: 063/14999 | Loss: 0.0003 | Episodes: 135 | Win count: 35 | Win rate: 0.547 | time: 16.8 seconds\n",
      "Epoch: 064/14999 | Loss: 0.0014 | Episodes: 10 | Win count: 36 | Win rate: 0.554 | time: 1.2 seconds\n",
      "Epoch: 065/14999 | Loss: 0.0005 | Episodes: 4 | Win count: 37 | Win rate: 0.561 | time: 0.5 seconds\n",
      "Epoch: 066/14999 | Loss: 0.0006 | Episodes: 135 | Win count: 37 | Win rate: 0.552 | time: 15.8 seconds\n",
      "Epoch: 067/14999 | Loss: 0.0009 | Episodes: 137 | Win count: 37 | Win rate: 0.544 | time: 17.6 seconds\n",
      "Epoch: 068/14999 | Loss: 0.0014 | Episodes: 16 | Win count: 38 | Win rate: 0.551 | time: 1.9 seconds\n",
      "Epoch: 069/14999 | Loss: 0.0012 | Episodes: 14 | Win count: 39 | Win rate: 0.557 | time: 1.8 seconds\n",
      "Epoch: 070/14999 | Loss: 0.0005 | Episodes: 140 | Win count: 39 | Win rate: 0.549 | time: 17.8 seconds\n",
      "Epoch: 071/14999 | Loss: 0.0011 | Episodes: 3 | Win count: 40 | Win rate: 0.556 | time: 0.5 seconds\n",
      "Epoch: 072/14999 | Loss: 0.0008 | Episodes: 8 | Win count: 41 | Win rate: 0.562 | time: 0.8 seconds\n",
      "Epoch: 073/14999 | Loss: 0.0009 | Episodes: 142 | Win count: 41 | Win rate: 0.554 | time: 17.5 seconds\n",
      "Epoch: 074/14999 | Loss: 0.0008 | Episodes: 144 | Win count: 41 | Win rate: 0.547 | time: 17.9 seconds\n",
      "Epoch: 075/14999 | Loss: 0.0013 | Episodes: 141 | Win count: 41 | Win rate: 0.539 | time: 17.2 seconds\n",
      "Epoch: 076/14999 | Loss: 0.0006 | Episodes: 139 | Win count: 41 | Win rate: 0.532 | time: 17.0 seconds\n",
      "Epoch: 077/14999 | Loss: 0.0011 | Episodes: 122 | Win count: 42 | Win rate: 0.538 | time: 14.7 seconds\n",
      "Epoch: 078/14999 | Loss: 0.0009 | Episodes: 49 | Win count: 43 | Win rate: 0.544 | time: 5.9 seconds\n",
      "Epoch: 079/14999 | Loss: 0.0013 | Episodes: 145 | Win count: 43 | Win rate: 0.537 | time: 17.8 seconds\n",
      "Epoch: 080/14999 | Loss: 0.0006 | Episodes: 10 | Win count: 44 | Win rate: 0.543 | time: 1.2 seconds\n"
     ]
    },
    {
     "name": "stdout",
     "output_type": "stream",
     "text": [
      "Epoch: 081/14999 | Loss: 0.0026 | Episodes: 37 | Win count: 45 | Win rate: 0.549 | time: 4.7 seconds\n",
      "Epoch: 082/14999 | Loss: 0.0012 | Episodes: 147 | Win count: 45 | Win rate: 0.542 | time: 17.3 seconds\n",
      "Epoch: 083/14999 | Loss: 0.0007 | Episodes: 144 | Win count: 45 | Win rate: 0.536 | time: 17.2 seconds\n",
      "Epoch: 084/14999 | Loss: 0.0015 | Episodes: 2 | Win count: 46 | Win rate: 0.541 | time: 0.3 seconds\n",
      "Epoch: 085/14999 | Loss: 0.0021 | Episodes: 144 | Win count: 46 | Win rate: 0.535 | time: 16.8 seconds\n",
      "Epoch: 086/14999 | Loss: 0.0021 | Episodes: 44 | Win count: 47 | Win rate: 0.540 | time: 5.0 seconds\n",
      "Epoch: 087/14999 | Loss: 0.0014 | Episodes: 141 | Win count: 48 | Win rate: 0.545 | time: 16.6 seconds\n",
      "Epoch: 088/14999 | Loss: 0.0014 | Episodes: 19 | Win count: 49 | Win rate: 0.551 | time: 2.5 seconds\n",
      "Epoch: 089/14999 | Loss: 0.0012 | Episodes: 27 | Win count: 50 | Win rate: 0.556 | time: 3.3 seconds\n",
      "Epoch: 090/14999 | Loss: 0.0134 | Episodes: 144 | Win count: 50 | Win rate: 0.549 | time: 16.7 seconds\n",
      "Epoch: 091/14999 | Loss: 0.0015 | Episodes: 142 | Win count: 50 | Win rate: 0.543 | time: 17.1 seconds\n",
      "Epoch: 092/14999 | Loss: 0.0014 | Episodes: 144 | Win count: 50 | Win rate: 0.538 | time: 17.3 seconds\n",
      "Epoch: 093/14999 | Loss: 0.0021 | Episodes: 1 | Win count: 51 | Win rate: 0.543 | time: 0.1 seconds\n",
      "Epoch: 094/14999 | Loss: 0.0008 | Episodes: 144 | Win count: 51 | Win rate: 0.537 | time: 17.7 seconds\n",
      "Epoch: 095/14999 | Loss: 0.0007 | Episodes: 2 | Win count: 52 | Win rate: 0.542 | time: 0.4 seconds\n",
      "Epoch: 096/14999 | Loss: 0.0014 | Episodes: 3 | Win count: 53 | Win rate: 0.546 | time: 0.3 seconds\n",
      "Epoch: 097/14999 | Loss: 0.0013 | Episodes: 19 | Win count: 54 | Win rate: 0.551 | time: 2.3 seconds\n",
      "Epoch: 098/14999 | Loss: 0.0008 | Episodes: 139 | Win count: 54 | Win rate: 0.545 | time: 16.8 seconds\n",
      "Epoch: 099/14999 | Loss: 0.0003 | Episodes: 144 | Win count: 54 | Win rate: 0.540 | time: 17.3 seconds\n",
      "Epoch: 100/14999 | Loss: 0.0014 | Episodes: 2 | Win count: 55 | Win rate: 0.545 | time: 0.3 seconds\n",
      "Epoch: 101/14999 | Loss: 0.0009 | Episodes: 10 | Win count: 56 | Win rate: 0.549 | time: 1.2 seconds\n",
      "Epoch: 102/14999 | Loss: 0.0015 | Episodes: 52 | Win count: 57 | Win rate: 0.553 | time: 6.2 seconds\n",
      "Epoch: 103/14999 | Loss: 0.0015 | Episodes: 10 | Win count: 58 | Win rate: 0.558 | time: 1.1 seconds\n",
      "Epoch: 104/14999 | Loss: 0.0012 | Episodes: 2 | Win count: 59 | Win rate: 0.562 | time: 0.3 seconds\n",
      "Epoch: 105/14999 | Loss: 0.0010 | Episodes: 149 | Win count: 59 | Win rate: 0.557 | time: 18.3 seconds\n",
      "Epoch: 106/14999 | Loss: 0.0014 | Episodes: 11 | Win count: 60 | Win rate: 0.561 | time: 1.4 seconds\n",
      "Epoch: 107/14999 | Loss: 0.0015 | Episodes: 139 | Win count: 60 | Win rate: 0.556 | time: 16.7 seconds\n",
      "Epoch: 108/14999 | Loss: 0.0016 | Episodes: 149 | Win count: 60 | Win rate: 0.550 | time: 18.6 seconds\n",
      "Epoch: 109/14999 | Loss: 0.0018 | Episodes: 30 | Win count: 61 | Win rate: 0.555 | time: 3.5 seconds\n",
      "Epoch: 110/14999 | Loss: 0.0014 | Episodes: 103 | Win count: 62 | Win rate: 0.559 | time: 12.2 seconds\n",
      "Epoch: 111/14999 | Loss: 0.0014 | Episodes: 7 | Win count: 63 | Win rate: 0.562 | time: 0.8 seconds\n",
      "Epoch: 112/14999 | Loss: 0.0023 | Episodes: 18 | Win count: 64 | Win rate: 0.566 | time: 2.1 seconds\n",
      "Epoch: 113/14999 | Loss: 0.0008 | Episodes: 98 | Win count: 65 | Win rate: 0.570 | time: 11.5 seconds\n",
      "Epoch: 114/14999 | Loss: 0.0014 | Episodes: 44 | Win count: 66 | Win rate: 0.574 | time: 5.2 seconds\n",
      "Epoch: 115/14999 | Loss: 0.0014 | Episodes: 7 | Win count: 67 | Win rate: 0.578 | time: 0.8 seconds\n",
      "Epoch: 116/14999 | Loss: 0.0015 | Episodes: 14 | Win count: 68 | Win rate: 0.581 | time: 1.8 seconds\n",
      "Epoch: 117/14999 | Loss: 0.0020 | Episodes: 21 | Win count: 69 | Win rate: 0.585 | time: 2.5 seconds\n",
      "Epoch: 118/14999 | Loss: 0.0014 | Episodes: 70 | Win count: 70 | Win rate: 0.588 | time: 8.8 seconds\n",
      "Epoch: 119/14999 | Loss: 0.0013 | Episodes: 140 | Win count: 70 | Win rate: 0.583 | time: 17.7 seconds\n",
      "Epoch: 120/14999 | Loss: 0.0011 | Episodes: 8 | Win count: 71 | Win rate: 0.587 | time: 0.8 seconds\n",
      "Epoch: 121/14999 | Loss: 0.0013 | Episodes: 78 | Win count: 72 | Win rate: 0.590 | time: 9.7 seconds\n",
      "Epoch: 122/14999 | Loss: 0.0016 | Episodes: 15 | Win count: 73 | Win rate: 0.593 | time: 1.9 seconds\n",
      "Epoch: 123/14999 | Loss: 0.0018 | Episodes: 11 | Win count: 74 | Win rate: 0.597 | time: 1.3 seconds\n",
      "Epoch: 124/14999 | Loss: 0.0011 | Episodes: 108 | Win count: 75 | Win rate: 0.600 | time: 12.8 seconds\n",
      "Epoch: 125/14999 | Loss: 0.0015 | Episodes: 28 | Win count: 76 | Win rate: 0.603 | time: 3.6 seconds\n",
      "Epoch: 126/14999 | Loss: 0.0015 | Episodes: 11 | Win count: 77 | Win rate: 0.606 | time: 1.4 seconds\n",
      "Epoch: 127/14999 | Loss: 0.0014 | Episodes: 62 | Win count: 78 | Win rate: 0.609 | time: 7.6 seconds\n",
      "Epoch: 128/14999 | Loss: 0.0013 | Episodes: 23 | Win count: 79 | Win rate: 0.612 | time: 2.5 seconds\n",
      "Epoch: 129/14999 | Loss: 0.0012 | Episodes: 1 | Win count: 80 | Win rate: 0.615 | time: 0.1 seconds\n",
      "Epoch: 130/14999 | Loss: 0.0009 | Episodes: 7 | Win count: 81 | Win rate: 0.618 | time: 1.0 seconds\n",
      "Epoch: 131/14999 | Loss: 0.0007 | Episodes: 23 | Win count: 82 | Win rate: 0.621 | time: 2.8 seconds\n",
      "Epoch: 132/14999 | Loss: 0.0017 | Episodes: 137 | Win count: 82 | Win rate: 0.617 | time: 16.3 seconds\n",
      "Epoch: 133/14999 | Loss: 0.0009 | Episodes: 29 | Win count: 83 | Win rate: 0.619 | time: 3.8 seconds\n",
      "Epoch: 134/14999 | Loss: 0.0007 | Episodes: 28 | Win count: 84 | Win rate: 0.622 | time: 3.9 seconds\n",
      "Epoch: 135/14999 | Loss: 0.0011 | Episodes: 10 | Win count: 85 | Win rate: 0.625 | time: 1.2 seconds\n",
      "Epoch: 136/14999 | Loss: 0.0007 | Episodes: 27 | Win count: 86 | Win rate: 0.628 | time: 3.2 seconds\n",
      "Epoch: 137/14999 | Loss: 0.0015 | Episodes: 24 | Win count: 87 | Win rate: 0.630 | time: 3.3 seconds\n",
      "Epoch: 138/14999 | Loss: 0.0010 | Episodes: 23 | Win count: 88 | Win rate: 0.633 | time: 3.0 seconds\n",
      "Epoch: 139/14999 | Loss: 0.0010 | Episodes: 28 | Win count: 89 | Win rate: 0.636 | time: 3.5 seconds\n",
      "Epoch: 140/14999 | Loss: 0.0012 | Episodes: 24 | Win count: 90 | Win rate: 0.638 | time: 3.0 seconds\n",
      "Epoch: 141/14999 | Loss: 0.0010 | Episodes: 9 | Win count: 91 | Win rate: 0.641 | time: 1.2 seconds\n",
      "Epoch: 142/14999 | Loss: 0.0011 | Episodes: 1 | Win count: 92 | Win rate: 0.643 | time: 0.1 seconds\n",
      "Epoch: 143/14999 | Loss: 0.0011 | Episodes: 15 | Win count: 93 | Win rate: 0.646 | time: 2.0 seconds\n",
      "Epoch: 144/14999 | Loss: 0.0004 | Episodes: 29 | Win count: 94 | Win rate: 0.648 | time: 3.3 seconds\n",
      "Epoch: 145/14999 | Loss: 0.0013 | Episodes: 8 | Win count: 95 | Win rate: 0.651 | time: 1.2 seconds\n",
      "Epoch: 146/14999 | Loss: 0.0013 | Episodes: 13 | Win count: 96 | Win rate: 0.653 | time: 1.7 seconds\n",
      "Epoch: 147/14999 | Loss: 0.0008 | Episodes: 3 | Win count: 97 | Win rate: 0.655 | time: 0.5 seconds\n",
      "Epoch: 148/14999 | Loss: 0.0009 | Episodes: 44 | Win count: 98 | Win rate: 0.658 | time: 5.1 seconds\n",
      "Epoch: 149/14999 | Loss: 0.0007 | Episodes: 35 | Win count: 99 | Win rate: 0.660 | time: 4.2 seconds\n",
      "Epoch: 150/14999 | Loss: 0.0011 | Episodes: 32 | Win count: 100 | Win rate: 0.662 | time: 4.4 seconds\n",
      "Epoch: 151/14999 | Loss: 0.0009 | Episodes: 31 | Win count: 101 | Win rate: 0.664 | time: 4.0 seconds\n",
      "Epoch: 152/14999 | Loss: 0.0009 | Episodes: 5 | Win count: 102 | Win rate: 0.667 | time: 0.6 seconds\n",
      "Epoch: 153/14999 | Loss: 0.0006 | Episodes: 34 | Win count: 103 | Win rate: 0.669 | time: 4.1 seconds\n",
      "Epoch: 154/14999 | Loss: 0.0007 | Episodes: 21 | Win count: 104 | Win rate: 0.671 | time: 2.4 seconds\n",
      "Epoch: 155/14999 | Loss: 0.0010 | Episodes: 32 | Win count: 105 | Win rate: 0.673 | time: 3.7 seconds\n",
      "Epoch: 156/14999 | Loss: 0.0008 | Episodes: 69 | Win count: 106 | Win rate: 0.675 | time: 8.0 seconds\n",
      "Epoch: 157/14999 | Loss: 0.0011 | Episodes: 17 | Win count: 107 | Win rate: 0.677 | time: 2.2 seconds\n",
      "Epoch: 158/14999 | Loss: 0.0008 | Episodes: 1 | Win count: 108 | Win rate: 0.679 | time: 0.1 seconds\n",
      "Epoch: 159/14999 | Loss: 0.0013 | Episodes: 6 | Win count: 109 | Win rate: 0.681 | time: 0.7 seconds\n",
      "Epoch: 160/14999 | Loss: 0.0005 | Episodes: 13 | Win count: 110 | Win rate: 0.683 | time: 1.6 seconds\n",
      "Epoch: 161/14999 | Loss: 0.0020 | Episodes: 34 | Win count: 111 | Win rate: 0.685 | time: 3.8 seconds\n"
     ]
    },
    {
     "name": "stdout",
     "output_type": "stream",
     "text": [
      "Epoch: 162/14999 | Loss: 0.0010 | Episodes: 10 | Win count: 112 | Win rate: 0.687 | time: 1.3 seconds\n",
      "Epoch: 163/14999 | Loss: 0.0012 | Episodes: 14 | Win count: 113 | Win rate: 0.689 | time: 1.6 seconds\n",
      "Epoch: 164/14999 | Loss: 0.0009 | Episodes: 27 | Win count: 114 | Win rate: 0.691 | time: 3.3 seconds\n",
      "Epoch: 165/14999 | Loss: 0.0012 | Episodes: 39 | Win count: 115 | Win rate: 0.693 | time: 4.8 seconds\n",
      "Epoch: 166/14999 | Loss: 0.0011 | Episodes: 34 | Win count: 116 | Win rate: 0.695 | time: 4.0 seconds\n",
      "Epoch: 167/14999 | Loss: 0.0011 | Episodes: 7 | Win count: 117 | Win rate: 0.696 | time: 0.9 seconds\n",
      "Epoch: 168/14999 | Loss: 0.0008 | Episodes: 19 | Win count: 118 | Win rate: 0.698 | time: 2.3 seconds\n",
      "Epoch: 169/14999 | Loss: 0.0011 | Episodes: 43 | Win count: 119 | Win rate: 0.700 | time: 5.2 seconds\n",
      "Epoch: 170/14999 | Loss: 0.0012 | Episodes: 10 | Win count: 120 | Win rate: 0.702 | time: 1.2 seconds\n",
      "Epoch: 171/14999 | Loss: 0.0022 | Episodes: 24 | Win count: 121 | Win rate: 0.703 | time: 2.8 seconds\n",
      "Epoch: 172/14999 | Loss: 0.0008 | Episodes: 39 | Win count: 122 | Win rate: 0.705 | time: 4.8 seconds\n",
      "Epoch: 173/14999 | Loss: 0.0015 | Episodes: 4 | Win count: 123 | Win rate: 0.707 | time: 0.4 seconds\n",
      "Epoch: 174/14999 | Loss: 0.0009 | Episodes: 18 | Win count: 124 | Win rate: 0.709 | time: 2.1 seconds\n",
      "Epoch: 175/14999 | Loss: 0.0009 | Episodes: 39 | Win count: 125 | Win rate: 0.710 | time: 5.0 seconds\n",
      "Epoch: 176/14999 | Loss: 0.0012 | Episodes: 33 | Win count: 126 | Win rate: 0.712 | time: 4.1 seconds\n",
      "Epoch: 177/14999 | Loss: 0.0003 | Episodes: 3 | Win count: 127 | Win rate: 0.713 | time: 0.2 seconds\n",
      "Epoch: 178/14999 | Loss: 0.0010 | Episodes: 20 | Win count: 128 | Win rate: 0.715 | time: 2.6 seconds\n",
      "Epoch: 179/14999 | Loss: 0.0009 | Episodes: 31 | Win count: 129 | Win rate: 0.717 | time: 3.9 seconds\n",
      "Epoch: 180/14999 | Loss: 0.0011 | Episodes: 7 | Win count: 130 | Win rate: 0.718 | time: 0.9 seconds\n",
      "Epoch: 181/14999 | Loss: 0.0007 | Episodes: 23 | Win count: 131 | Win rate: 0.720 | time: 2.9 seconds\n",
      "Epoch: 182/14999 | Loss: 0.0010 | Episodes: 2 | Win count: 132 | Win rate: 0.721 | time: 0.3 seconds\n",
      "Epoch: 183/14999 | Loss: 0.0012 | Episodes: 33 | Win count: 133 | Win rate: 0.723 | time: 3.7 seconds\n",
      "Epoch: 184/14999 | Loss: 0.0012 | Episodes: 31 | Win count: 134 | Win rate: 0.724 | time: 3.7 seconds\n",
      "Epoch: 185/14999 | Loss: 0.0011 | Episodes: 25 | Win count: 135 | Win rate: 0.726 | time: 3.5 seconds\n",
      "Epoch: 186/14999 | Loss: 0.0015 | Episodes: 8 | Win count: 136 | Win rate: 0.727 | time: 1.0 seconds\n",
      "Epoch: 187/14999 | Loss: 0.0008 | Episodes: 35 | Win count: 137 | Win rate: 0.729 | time: 4.4 seconds\n",
      "Epoch: 188/14999 | Loss: 0.0004 | Episodes: 17 | Win count: 138 | Win rate: 0.730 | time: 2.2 seconds\n",
      "Epoch: 189/14999 | Loss: 0.0010 | Episodes: 31 | Win count: 139 | Win rate: 0.732 | time: 3.9 seconds\n",
      "Epoch: 190/14999 | Loss: 0.0009 | Episodes: 13 | Win count: 140 | Win rate: 0.733 | time: 1.7 seconds\n",
      "Epoch: 191/14999 | Loss: 0.0004 | Episodes: 16 | Win count: 141 | Win rate: 0.734 | time: 2.0 seconds\n",
      "Epoch: 192/14999 | Loss: 0.0014 | Episodes: 28 | Win count: 142 | Win rate: 0.736 | time: 3.5 seconds\n",
      "Epoch: 193/14999 | Loss: 0.0006 | Episodes: 28 | Win count: 143 | Win rate: 0.737 | time: 3.2 seconds\n",
      "Epoch: 194/14999 | Loss: 0.0009 | Episodes: 7 | Win count: 144 | Win rate: 0.738 | time: 0.9 seconds\n",
      "Epoch: 195/14999 | Loss: 0.0009 | Episodes: 20 | Win count: 145 | Win rate: 0.740 | time: 2.5 seconds\n",
      "Epoch: 196/14999 | Loss: 0.0007 | Episodes: 23 | Win count: 146 | Win rate: 0.741 | time: 2.9 seconds\n",
      "Epoch: 197/14999 | Loss: 0.0006 | Episodes: 31 | Win count: 147 | Win rate: 0.742 | time: 4.0 seconds\n",
      "Epoch: 198/14999 | Loss: 0.0009 | Episodes: 7 | Win count: 148 | Win rate: 0.744 | time: 0.9 seconds\n",
      "Epoch: 199/14999 | Loss: 0.0008 | Episodes: 20 | Win count: 149 | Win rate: 0.745 | time: 2.4 seconds\n",
      "Epoch: 200/14999 | Loss: 0.0009 | Episodes: 9 | Win count: 150 | Win rate: 0.746 | time: 1.2 seconds\n",
      "Epoch: 201/14999 | Loss: 0.0008 | Episodes: 37 | Win count: 151 | Win rate: 0.748 | time: 5.3 seconds\n",
      "Epoch: 202/14999 | Loss: 0.0010 | Episodes: 1 | Win count: 152 | Win rate: 0.749 | time: 0.1 seconds\n",
      "Epoch: 203/14999 | Loss: 0.0009 | Episodes: 14 | Win count: 153 | Win rate: 0.750 | time: 1.9 seconds\n",
      "Epoch: 204/14999 | Loss: 0.0004 | Episodes: 13 | Win count: 154 | Win rate: 0.751 | time: 1.7 seconds\n",
      "Epoch: 205/14999 | Loss: 0.0008 | Episodes: 11 | Win count: 155 | Win rate: 0.752 | time: 1.2 seconds\n",
      "Epoch: 206/14999 | Loss: 0.0013 | Episodes: 21 | Win count: 156 | Win rate: 0.754 | time: 2.5 seconds\n",
      "Epoch: 207/14999 | Loss: 0.0008 | Episodes: 29 | Win count: 157 | Win rate: 0.755 | time: 3.5 seconds\n",
      "Epoch: 208/14999 | Loss: 0.0003 | Episodes: 25 | Win count: 158 | Win rate: 0.756 | time: 3.4 seconds\n",
      "Epoch: 209/14999 | Loss: 0.0005 | Episodes: 16 | Win count: 159 | Win rate: 0.757 | time: 2.2 seconds\n",
      "Epoch: 210/14999 | Loss: 0.0014 | Episodes: 101 | Win count: 160 | Win rate: 0.758 | time: 13.1 seconds\n",
      "Epoch: 211/14999 | Loss: 0.0008 | Episodes: 2 | Win count: 161 | Win rate: 0.759 | time: 0.1 seconds\n",
      "Epoch: 212/14999 | Loss: 0.0008 | Episodes: 29 | Win count: 162 | Win rate: 0.761 | time: 3.6 seconds\n",
      "Epoch: 213/14999 | Loss: 0.0014 | Episodes: 44 | Win count: 163 | Win rate: 0.762 | time: 5.4 seconds\n",
      "Epoch: 214/14999 | Loss: 0.0016 | Episodes: 9 | Win count: 164 | Win rate: 0.763 | time: 1.3 seconds\n",
      "Epoch: 215/14999 | Loss: 0.0012 | Episodes: 8 | Win count: 165 | Win rate: 0.764 | time: 1.1 seconds\n",
      "Epoch: 216/14999 | Loss: 0.0012 | Episodes: 29 | Win count: 166 | Win rate: 0.765 | time: 3.7 seconds\n",
      "Epoch: 217/14999 | Loss: 0.0011 | Episodes: 17 | Win count: 167 | Win rate: 0.766 | time: 1.9 seconds\n",
      "Epoch: 218/14999 | Loss: 0.0013 | Episodes: 10 | Win count: 168 | Win rate: 0.767 | time: 1.3 seconds\n",
      "Epoch: 219/14999 | Loss: 0.0011 | Episodes: 3 | Win count: 169 | Win rate: 0.768 | time: 0.3 seconds\n",
      "Epoch: 220/14999 | Loss: 0.0013 | Episodes: 14 | Win count: 170 | Win rate: 0.769 | time: 1.5 seconds\n",
      "Epoch: 221/14999 | Loss: 0.0012 | Episodes: 7 | Win count: 171 | Win rate: 0.770 | time: 0.8 seconds\n",
      "Epoch: 222/14999 | Loss: 0.0019 | Episodes: 28 | Win count: 172 | Win rate: 0.771 | time: 3.2 seconds\n",
      "Epoch: 223/14999 | Loss: 0.0017 | Episodes: 65 | Win count: 173 | Win rate: 0.772 | time: 8.2 seconds\n",
      "Epoch: 224/14999 | Loss: 0.0016 | Episodes: 27 | Win count: 174 | Win rate: 0.773 | time: 3.1 seconds\n",
      "Epoch: 225/14999 | Loss: 0.0013 | Episodes: 38 | Win count: 175 | Win rate: 0.774 | time: 4.8 seconds\n",
      "Epoch: 226/14999 | Loss: 0.0013 | Episodes: 8 | Win count: 176 | Win rate: 0.775 | time: 1.0 seconds\n",
      "Epoch: 227/14999 | Loss: 0.0012 | Episodes: 28 | Win count: 177 | Win rate: 0.776 | time: 3.4 seconds\n",
      "Epoch: 228/14999 | Loss: 0.0012 | Episodes: 25 | Win count: 178 | Win rate: 0.777 | time: 3.0 seconds\n",
      "Epoch: 229/14999 | Loss: 0.0006 | Episodes: 24 | Win count: 179 | Win rate: 0.778 | time: 2.9 seconds\n",
      "Epoch: 230/14999 | Loss: 0.0011 | Episodes: 18 | Win count: 180 | Win rate: 0.779 | time: 1.8 seconds\n",
      "Epoch: 231/14999 | Loss: 0.0014 | Episodes: 17 | Win count: 181 | Win rate: 0.780 | time: 2.2 seconds\n",
      "Epoch: 232/14999 | Loss: 0.0013 | Episodes: 38 | Win count: 182 | Win rate: 0.781 | time: 4.9 seconds\n",
      "Epoch: 233/14999 | Loss: 0.0008 | Episodes: 29 | Win count: 183 | Win rate: 0.782 | time: 3.7 seconds\n",
      "Epoch: 234/14999 | Loss: 0.0011 | Episodes: 2 | Win count: 184 | Win rate: 0.783 | time: 0.3 seconds\n",
      "Epoch: 235/14999 | Loss: 0.0008 | Episodes: 42 | Win count: 185 | Win rate: 0.784 | time: 5.7 seconds\n",
      "Epoch: 236/14999 | Loss: 0.0006 | Episodes: 25 | Win count: 186 | Win rate: 0.785 | time: 3.5 seconds\n",
      "Epoch: 237/14999 | Loss: 0.0011 | Episodes: 3 | Win count: 187 | Win rate: 0.786 | time: 0.5 seconds\n",
      "Epoch: 238/14999 | Loss: 0.0005 | Episodes: 4 | Win count: 188 | Win rate: 0.787 | time: 0.3 seconds\n",
      "Epoch: 239/14999 | Loss: 0.0005 | Episodes: 32 | Win count: 189 | Win rate: 0.787 | time: 3.8 seconds\n",
      "Epoch: 240/14999 | Loss: 0.0007 | Episodes: 22 | Win count: 190 | Win rate: 0.788 | time: 2.7 seconds\n",
      "Epoch: 241/14999 | Loss: 0.0014 | Episodes: 24 | Win count: 191 | Win rate: 0.789 | time: 2.8 seconds\n",
      "Epoch: 242/14999 | Loss: 0.0011 | Episodes: 35 | Win count: 192 | Win rate: 0.790 | time: 4.5 seconds\n"
     ]
    },
    {
     "name": "stdout",
     "output_type": "stream",
     "text": [
      "Epoch: 243/14999 | Loss: 0.0015 | Episodes: 8 | Win count: 193 | Win rate: 0.791 | time: 0.9 seconds\n",
      "Epoch: 244/14999 | Loss: 0.0017 | Episodes: 26 | Win count: 194 | Win rate: 0.792 | time: 3.0 seconds\n",
      "Epoch: 245/14999 | Loss: 0.0018 | Episodes: 25 | Win count: 195 | Win rate: 0.793 | time: 2.8 seconds\n",
      "Epoch: 246/14999 | Loss: 0.0006 | Episodes: 9 | Win count: 196 | Win rate: 0.794 | time: 0.9 seconds\n",
      "Epoch: 247/14999 | Loss: 0.0011 | Episodes: 12 | Win count: 197 | Win rate: 0.794 | time: 1.3 seconds\n",
      "Epoch: 248/14999 | Loss: 0.0012 | Episodes: 33 | Win count: 198 | Win rate: 0.795 | time: 3.6 seconds\n",
      "Epoch: 249/14999 | Loss: 0.0006 | Episodes: 16 | Win count: 199 | Win rate: 0.796 | time: 1.9 seconds\n",
      "Epoch: 250/14999 | Loss: 0.0004 | Episodes: 2 | Win count: 200 | Win rate: 0.797 | time: 0.1 seconds\n",
      "Epoch: 251/14999 | Loss: 0.0006 | Episodes: 5 | Win count: 201 | Win rate: 0.798 | time: 0.6 seconds\n",
      "Epoch: 252/14999 | Loss: 0.0012 | Episodes: 29 | Win count: 202 | Win rate: 0.798 | time: 3.6 seconds\n",
      "Epoch: 253/14999 | Loss: 0.0004 | Episodes: 6 | Win count: 203 | Win rate: 0.799 | time: 0.6 seconds\n",
      "Epoch: 254/14999 | Loss: 0.0016 | Episodes: 19 | Win count: 204 | Win rate: 0.800 | time: 2.5 seconds\n",
      "Epoch: 255/14999 | Loss: 0.0009 | Episodes: 8 | Win count: 205 | Win rate: 0.801 | time: 1.1 seconds\n",
      "Epoch: 256/14999 | Loss: 0.0005 | Episodes: 8 | Win count: 206 | Win rate: 0.802 | time: 0.8 seconds\n",
      "Epoch: 257/14999 | Loss: 0.0002 | Episodes: 41 | Win count: 207 | Win rate: 0.802 | time: 5.2 seconds\n",
      "Epoch: 258/14999 | Loss: 0.0010 | Episodes: 16 | Win count: 208 | Win rate: 0.803 | time: 1.9 seconds\n",
      "Epoch: 259/14999 | Loss: 0.0010 | Episodes: 2 | Win count: 209 | Win rate: 0.804 | time: 0.3 seconds\n",
      "Epoch: 260/14999 | Loss: 0.0011 | Episodes: 10 | Win count: 210 | Win rate: 0.805 | time: 1.4 seconds\n",
      "Epoch: 261/14999 | Loss: 0.0006 | Episodes: 26 | Win count: 211 | Win rate: 0.805 | time: 3.5 seconds\n",
      "Epoch: 262/14999 | Loss: 0.0015 | Episodes: 41 | Win count: 212 | Win rate: 0.806 | time: 5.3 seconds\n",
      "Epoch: 263/14999 | Loss: 0.0003 | Episodes: 19 | Win count: 213 | Win rate: 0.807 | time: 2.4 seconds\n",
      "Epoch: 264/14999 | Loss: 0.0003 | Episodes: 25 | Win count: 214 | Win rate: 0.808 | time: 3.1 seconds\n",
      "Epoch: 265/14999 | Loss: 0.0014 | Episodes: 31 | Win count: 215 | Win rate: 0.808 | time: 3.7 seconds\n",
      "Epoch: 266/14999 | Loss: 0.0008 | Episodes: 18 | Win count: 216 | Win rate: 0.809 | time: 2.0 seconds\n",
      "Epoch: 267/14999 | Loss: 0.0010 | Episodes: 14 | Win count: 217 | Win rate: 0.810 | time: 1.6 seconds\n",
      "Epoch: 268/14999 | Loss: 0.0006 | Episodes: 86 | Win count: 218 | Win rate: 0.810 | time: 10.0 seconds\n",
      "Epoch: 269/14999 | Loss: 0.0004 | Episodes: 24 | Win count: 219 | Win rate: 0.811 | time: 3.1 seconds\n",
      "Epoch: 270/14999 | Loss: 0.0006 | Episodes: 30 | Win count: 220 | Win rate: 0.812 | time: 3.6 seconds\n",
      "Epoch: 271/14999 | Loss: 0.0009 | Episodes: 7 | Win count: 221 | Win rate: 0.812 | time: 0.8 seconds\n",
      "Epoch: 272/14999 | Loss: 0.0010 | Episodes: 17 | Win count: 222 | Win rate: 0.813 | time: 2.2 seconds\n",
      "Epoch: 273/14999 | Loss: 0.0005 | Episodes: 5 | Win count: 223 | Win rate: 0.814 | time: 0.6 seconds\n",
      "Epoch: 274/14999 | Loss: 0.0005 | Episodes: 40 | Win count: 224 | Win rate: 0.815 | time: 5.1 seconds\n",
      "Reached 100% win rate at epoch: 274\n",
      "n_epoch: 274, max_mem: 512, data: 32, time: 6.0 seconds\n"
     ]
    },
    {
     "data": {
      "text/plain": [
       "5.953872"
      ]
     },
     "execution_count": 11,
     "metadata": {},
     "output_type": "execute_result"
    }
   ],
   "source": [
    "model = build_model(maze)\n",
    "qtrain(model, maze, epochs=1000, max_memory=8*maze.size, data_size=32)"
   ]
  },
  {
   "cell_type": "markdown",
   "metadata": {},
   "source": [
    "This cell will check to see if the model passes the completion check. Note: This could take several minutes."
   ]
  },
  {
   "cell_type": "code",
   "execution_count": 12,
   "metadata": {},
   "outputs": [
    {
     "data": {
      "text/plain": [
       "<matplotlib.image.AxesImage at 0x21aecc27b08>"
      ]
     },
     "execution_count": 12,
     "metadata": {},
     "output_type": "execute_result"
    },
    {
     "data": {
      "image/png": "[encoded data removed]",
      "text/plain": [
       "<Figure size 432x288 with 1 Axes>"
      ]
     },
     "metadata": {
      "needs_background": "light"
     },
     "output_type": "display_data"
    }
   ],
   "source": [
    "completion_check(model, qmaze)\n",
    "show(qmaze)"
   ]
  },
  {
   "cell_type": "markdown",
   "metadata": {},
   "source": [
    "This cell will test your model for one game. It will start the pirate at the top-left corner and run play_game. The agent should find a path from the starting position to the target (treasure). The treasure is located in the bottom-right corner."
   ]
  },
  {
   "cell_type": "code",
   "execution_count": 13,
   "metadata": {},
   "outputs": [
    {
     "data": {
      "text/plain": [
       "<matplotlib.image.AxesImage at 0x21af4239b08>"
      ]
     },
     "execution_count": 13,
     "metadata": {},
     "output_type": "execute_result"
    },
    {
     "data": {
      "image/png": "[encoded data removed]",
      "text/plain": [
       "<Figure size 432x288 with 1 Axes>"
      ]
     },
     "metadata": {
      "needs_background": "light"
     },
     "output_type": "display_data"
    }
   ],
   "source": [
    "pirate_start = (0, 0)\n",
    "play_game(model, qmaze, pirate_start)\n",
    "show(qmaze)"
   ]
  },
  {
   "cell_type": "markdown",
   "metadata": {},
   "source": [
    "## Save and Submit Your Work\n",
    "After you have finished creating the code for your notebook, save your work. Make sure that your notebook contains your name in the filename (e.g. Doe_Jane_ProjectTwo.ipynb). This will help your instructor access and grade your work easily. Download a copy of your IPYNB file and submit it to Brightspace. Refer to the Jupyter Notebook in Apporto Tutorial if you need help with these tasks."
   ]
  }
 ],
 "metadata": {
  "kernelspec": {
   "display_name": "Python 3",
   "language": "python",
   "name": "python3"
  },
  "language_info": {
   "codemirror_mode": {
    "name": "ipython",
    "version": 3
   },
   "file_extension": ".py",
   "mimetype": "text/x-python",
   "name": "python",
   "nbconvert_exporter": "python",
   "pygments_lexer": "ipython3",
   "version": "3.7.4"
  }
 },
 "nbformat": 4,
 "nbformat_minor": 2
}
